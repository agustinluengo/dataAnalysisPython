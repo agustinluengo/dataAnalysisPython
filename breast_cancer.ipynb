import numpy as np
import pandas as pd
import matplotlib as plt
import seaborn as sns 
from sklearn.model_selection import train_test_split
from sklearn.neighbors import KNeighborsClassifier


df = pd.read_csv("C:\Users\luengoag\Desktop\Private\Python\breast_cancer\breast_cancer.csv", sep=",")
df.columns()
df.head()
